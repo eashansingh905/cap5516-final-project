{
  "nbformat": 4,
  "nbformat_minor": 0,
  "metadata": {
    "colab": {
      "provenance": []
    },
    "kernelspec": {
      "name": "python3",
      "display_name": "Python 3"
    },
    "language_info": {
      "name": "python"
    }
  },
  "cells": [
    {
      "cell_type": "code",
      "execution_count": 3,
      "metadata": {
        "colab": {
          "base_uri": "https://localhost:8080/"
        },
        "id": "yo29j9mPy5Hd",
        "outputId": "0d12e8b2-6dfb-4eae-86af-e665af495b5e"
      },
      "outputs": [
        {
          "output_type": "stream",
          "name": "stdout",
          "text": [
            "Looking in indexes: https://pypi.org/simple, https://us-python.pkg.dev/colab-wheels/public/simple/\n",
            "Collecting deap\n",
            "  Downloading deap-1.3.3-cp310-cp310-manylinux_2_5_x86_64.manylinux1_x86_64.manylinux_2_17_x86_64.manylinux2014_x86_64.whl (139 kB)\n",
            "\u001b[2K     \u001b[90m━━━━━━━━━━━━━━━━━━━━━━━━━━━━━━━━━━━━━━━\u001b[0m \u001b[32m139.9/139.9 kB\u001b[0m \u001b[31m5.6 MB/s\u001b[0m eta \u001b[36m0:00:00\u001b[0m\n",
            "\u001b[?25hRequirement already satisfied: numpy in /usr/local/lib/python3.10/dist-packages (from deap) (1.22.4)\n",
            "Installing collected packages: deap\n",
            "Successfully installed deap-1.3.3\n"
          ]
        }
      ],
      "source": [
        "# This program attempts to solve the knapsack problem using the DEAP library\n",
        "# https://deap.readthedocs.io/en/master/examples/ga_knapsack.html\n",
        "#https://github.com/DEAP/deap/blob/cb20d979d3b62635cc330a9804aeb29523bffd42/examples/ga/knapsack.py\n",
        "\n",
        "import random\n",
        "\n",
        "import numpy\n",
        "\n",
        "!pip install deap\n",
        "from deap import algorithms\n",
        "from deap import base\n",
        "from deap import creator\n",
        "from deap import tools\n"
      ]
    },
    {
      "cell_type": "code",
      "source": [
        "IND_INIT_SIZE = 5\n",
        "MAX_ITEM = 50\n",
        "MAX_WEIGHT = 50\n",
        "NBR_ITEMS = 20"
      ],
      "metadata": {
        "id": "g-vgrQP_ziPn"
      },
      "execution_count": 4,
      "outputs": []
    },
    {
      "cell_type": "code",
      "source": [
        "# To assure reproducibility, the RNG seed is set prior to the items\n",
        "# dict initialization. It is also seeded in main().\n",
        "random.seed(64)"
      ],
      "metadata": {
        "id": "khPTq91NzfZ_"
      },
      "execution_count": 5,
      "outputs": []
    },
    {
      "cell_type": "code",
      "source": [
        "# Create the item dictionary: item name is an integer, and value is \n",
        "# a (weight, value) 2-tuple.\n",
        "items = {}\n",
        "# Create random items and store them in the items' dictionary.\n",
        "for i in range(NBR_ITEMS):\n",
        "    items[i] = (random.randint(1, 10), random.uniform(0, 100))"
      ],
      "metadata": {
        "id": "GBV0sBdkzuCf"
      },
      "execution_count": 6,
      "outputs": []
    },
    {
      "cell_type": "code",
      "source": [
        "creator.create(\"Fitness\", base.Fitness, weights=(-1.0, 1.0))\n",
        "creator.create(\"Individual\", set, fitness=creator.Fitness)"
      ],
      "metadata": {
        "id": "7kzA-vmizuEm"
      },
      "execution_count": 7,
      "outputs": []
    },
    {
      "cell_type": "code",
      "source": [
        "toolbox = base.Toolbox()"
      ],
      "metadata": {
        "id": "NIjwfgKgzuGw"
      },
      "execution_count": 8,
      "outputs": []
    },
    {
      "cell_type": "code",
      "source": [
        "# Attribute generator\n",
        "toolbox.register(\"attr_item\", random.randrange, NBR_ITEMS)\n",
        "\n",
        "# Structure initializers\n",
        "toolbox.register(\"individual\", tools.initRepeat, creator.Individual, \n",
        "    toolbox.attr_item, IND_INIT_SIZE)\n",
        "toolbox.register(\"population\", tools.initRepeat, list, toolbox.individual)"
      ],
      "metadata": {
        "id": "kTCHuAkfzuI9"
      },
      "execution_count": 9,
      "outputs": []
    },
    {
      "cell_type": "code",
      "source": [
        "def evalKnapsack(individual):\n",
        "    weight = 0.0\n",
        "    value = 0.0\n",
        "    for item in individual:\n",
        "        weight += items[item][0]\n",
        "        value += items[item][1]\n",
        "    if len(individual) > MAX_ITEM or weight > MAX_WEIGHT:\n",
        "        return 10000, 0             # Ensure overweighted bags are dominated\n",
        "    return weight, value"
      ],
      "metadata": {
        "id": "Yw1ZkSn_0Iim"
      },
      "execution_count": 10,
      "outputs": []
    },
    {
      "cell_type": "code",
      "source": [
        "def cxSet(ind1, ind2):\n",
        "    \"\"\"Apply a crossover operation on input sets. The first child is the\n",
        "    intersection of the two sets, the second child is the difference of the\n",
        "    two sets.\n",
        "    \"\"\"\n",
        "    temp = set(ind1)                # Used in order to keep type\n",
        "    ind1 &= ind2                    # Intersection (inplace)\n",
        "    ind2 ^= temp                    # Symmetric Difference (inplace)\n",
        "    return ind1, ind2"
      ],
      "metadata": {
        "id": "jKtXIY2v0TuX"
      },
      "execution_count": 11,
      "outputs": []
    },
    {
      "cell_type": "code",
      "source": [
        "def mutSet(individual):\n",
        "    \"\"\"Mutation that pops or add an element.\"\"\"\n",
        "    if random.random() < 0.5:\n",
        "        if len(individual) > 0:     # We cannot pop from an empty set\n",
        "            individual.remove(random.choice(sorted(tuple(individual))))\n",
        "    else:\n",
        "        individual.add(random.randrange(NBR_ITEMS))\n",
        "    return individual,"
      ],
      "metadata": {
        "id": "uDHasV740Tyu"
      },
      "execution_count": 12,
      "outputs": []
    },
    {
      "cell_type": "code",
      "source": [
        "toolbox.register(\"evaluate\", evalKnapsack)\n",
        "toolbox.register(\"mate\", cxSet)\n",
        "toolbox.register(\"mutate\", mutSet)\n",
        "toolbox.register(\"select\", tools.selNSGA2)"
      ],
      "metadata": {
        "id": "zQlN22a00T1H"
      },
      "execution_count": 13,
      "outputs": []
    },
    {
      "cell_type": "code",
      "source": [
        "def main():\n",
        "    NGEN = 50\n",
        "    MU = 50\n",
        "    LAMBDA = 100\n",
        "    CXPB = 0.7\n",
        "    MUTPB = 0.2\n",
        "\n",
        "    pop = toolbox.population(n=MU)\n",
        "    hof = tools.ParetoFront()\n",
        "    stats = tools.Statistics(lambda ind: ind.fitness.values)\n",
        "    stats.register(\"avg\", numpy.mean, axis=0)\n",
        "    stats.register(\"std\", numpy.std, axis=0)\n",
        "    stats.register(\"min\", numpy.min, axis=0)\n",
        "    stats.register(\"max\", numpy.max, axis=0)\n",
        "\n",
        "    algorithms.eaMuPlusLambda(pop, toolbox, MU, LAMBDA, CXPB, MUTPB, NGEN, stats,\n",
        "                              halloffame=hof)\n",
        "\n",
        "    return pop, stats, hof"
      ],
      "metadata": {
        "id": "BpNprBGH0T3i"
      },
      "execution_count": 14,
      "outputs": []
    },
    {
      "cell_type": "code",
      "source": [
        "if __name__ == \"__main__\":\n",
        "    main()    "
      ],
      "metadata": {
        "colab": {
          "base_uri": "https://localhost:8080/"
        },
        "id": "Fp6GV2LT0T5u",
        "outputId": "fe61a0be-b0f5-4d24-f252-623cee53394a"
      },
      "execution_count": 15,
      "outputs": [
        {
          "output_type": "stream",
          "name": "stdout",
          "text": [
            "gen\tnevals\tavg                        \tstd                      \tmin                      \tmax                        \n",
            "0  \t50    \t[ 21.78       211.94878577]\t[ 5.96419316 70.12656822]\t[10.         67.91830915]\t[ 38.         345.35491309]\n",
            "1  \t88    \t[  6.98       118.10039868]\t[  8.31983173 111.14178365]\t[0. 0.]                  \t[ 28.         345.35491309]\n",
            "2  \t93    \t[ 1.36       32.52866072]  \t[ 3.95858561 81.87027593]  \t[0. 0.]                  \t[ 20.         345.35491309]\n",
            "3  \t87    \t[ 1.78       43.20812896]  \t[ 4.36022935 90.48671669]  \t[0. 0.]                  \t[ 20.         345.35491309]\n",
            "4  \t93    \t[ 1.84       50.38824387]  \t[ 4.41524631 92.57532172]  \t[0. 0.]                  \t[ 20.         345.35491309]\n",
            "5  \t85    \t[ 2.38       62.96901568]  \t[  4.90668931 102.99689289]\t[0. 0.]                  \t[ 20.         345.35491309]\n",
            "6  \t82    \t[ 3.12       90.34030109]  \t[  5.05426553 107.34668642]\t[0. 0.]                  \t[ 20.         345.35491309]\n",
            "7  \t88    \t[ 2.34       54.85219467]  \t[  4.85225721 102.3885164 ]\t[0. 0.]                  \t[ 20.         345.35491309]\n",
            "8  \t87    \t[ 2.54       57.81222509]  \t[  5.35615534 105.51459392]\t[0. 0.]                  \t[ 21.         353.72150413]\n",
            "9  \t88    \t[ 3.28       71.43889635]  \t[  6.54229318 126.03921102]\t[0. 0.]                  \t[ 22.        448.7250953]  \n",
            "10 \t95    \t[ 2.78       66.54866485]  \t[  5.86272974 125.63155456]\t[0. 0.]                  \t[ 22.        448.7250953]  \n",
            "11 \t93    \t[ 3.38       83.26468118]  \t[  6.19318981 134.69646752]\t[0. 0.]                  \t[ 22.        448.7250953]  \n",
            "12 \t91    \t[ 3.28      84.5980605]    \t[  6.60315076 145.44020456]\t[0. 0.]                  \t[ 25.         459.26636045]\n",
            "13 \t94    \t[ 2.66       68.36031689]  \t[  6.18258845 133.94235879]\t[0. 0.]                  \t[ 25.         459.26636045]\n",
            "14 \t85    \t[ 3.26       79.21786874]  \t[  7.22166186 149.30190622]\t[0. 0.]                  \t[ 29.         468.14852825]\n",
            "15 \t89    \t[  4.68       108.39682289]\t[  8.6797235  171.49373277]\t[0. 0.]                  \t[ 29.         468.14852825]\n",
            "16 \t89    \t[  5.44      128.1867548]  \t[  8.81398888 176.93362207]\t[0. 0.]                  \t[ 29.         468.14852825]\n",
            "17 \t90    \t[  5.84       137.09498271]\t[  9.08924639 181.43379195]\t[0. 0.]                  \t[ 29.         468.14852825]\n",
            "18 \t87    \t[  7.88       174.22329983]\t[ 10.19929409 193.81751272]\t[0. 0.]                  \t[ 31.         491.41343924]\n",
            "19 \t92    \t[  7.42       171.73840913]\t[ 10.09968316 188.01543506]\t[0. 0.]                  \t[ 34.         501.95470439]\n",
            "20 \t88    \t[  5.9        143.20977368]\t[  9.11975877 187.29526335]\t[0. 0.]                  \t[ 30.         545.11650483]\n",
            "21 \t90    \t[  7.3        182.40765346]\t[  9.66488489 194.20897483]\t[0. 0.]                  \t[ 39.         587.80484878]\n",
            "22 \t94    \t[  5.58       123.85988713]\t[ 10.47681249 193.29360511]\t[0. 0.]                  \t[ 39.         587.80484878]\n",
            "23 \t90    \t[  7.1        160.60372443]\t[ 11.19330157 203.02763015]\t[0. 0.]                  \t[ 39.         587.80484878]\n",
            "24 \t90    \t[  7.88       172.70404619]\t[ 11.98438985 211.21831547]\t[0. 0.]                  \t[ 39.         587.80484878]\n",
            "25 \t87    \t[  8.06       188.39891932]\t[ 11.53500759 204.55975089]\t[0. 0.]                  \t[ 39.         587.80484878]\n",
            "26 \t89    \t[  9.68       233.46353573]\t[ 11.52812214 199.66982751]\t[0. 0.]                  \t[ 39.         587.80484878]\n",
            "27 \t87    \t[ 11.6        272.85899764]\t[ 11.68931136 203.95635394]\t[0. 0.]                  \t[ 39.         587.80484878]\n",
            "28 \t95    \t[ 11.26      273.1511327]  \t[ 11.36276375 200.19689249]\t[0. 0.]                  \t[ 39.         587.80484878]\n",
            "29 \t94    \t[ 11.64       278.40570873]\t[ 11.99959999 202.93890421]\t[0. 0.]                  \t[ 39.         587.80484878]\n",
            "30 \t94    \t[ 14.         324.06434949]\t[ 12.2768074  190.45749865]\t[0. 0.]                  \t[ 39.         587.80484878]\n",
            "31 \t90    \t[ 11.74       286.76065435]\t[ 11.6975382  203.60926262]\t[0. 0.]                  \t[ 48.         607.84983236]\n",
            "32 \t77    \t[ 12.84       300.59580874]\t[ 12.15131269 211.90293056]\t[0. 0.]                  \t[ 48.         607.84983236]\n",
            "33 \t93    \t[ 13.94       303.80986037]\t[ 13.58883365 223.4544743 ]\t[0. 0.]                  \t[ 48.         607.84983236]\n",
            "34 \t87    \t[ 18.06       397.30014755]\t[ 12.87852476 169.41507146]\t[0. 0.]                  \t[ 48.         607.84983236]\n",
            "35 \t95    \t[ 16.36       364.08131382]\t[ 13.8877788  192.77082865]\t[0. 0.]                  \t[ 48.         607.84983236]\n",
            "36 \t90    \t[ 20.54       427.47881629]\t[ 14.23405775 160.60238487]\t[0. 0.]                  \t[ 48.         607.84983236]\n",
            "37 \t85    \t[ 16.06       351.53909731]\t[ 14.98053404 206.03044055]\t[0. 0.]                  \t[ 49.         639.78968573]\n",
            "38 \t88    \t[ 11.84       318.06083562]\t[ 11.0442021 191.3565509]  \t[0. 0.]                  \t[ 49.         639.78968573]\n",
            "39 \t93    \t[ 12.44       314.20448675]\t[ 12.07668829 212.37110461]\t[0. 0.]                  \t[ 49.         639.78968573]\n",
            "40 \t92    \t[  9.86       259.26362973]\t[ 11.52043402 222.66518755]\t[0. 0.]                  \t[ 49.         639.78968573]\n",
            "41 \t91    \t[  9.46       254.57434149]\t[ 11.51730871 223.91524156]\t[0. 0.]                  \t[ 49.         639.78968573]\n",
            "42 \t93    \t[  9.52       256.83992564]\t[ 11.2999823  232.47852792]\t[0. 0.]                  \t[ 36.         679.52866272]\n",
            "43 \t95    \t[ 10.62      293.0042137]  \t[ 11.08673081 219.52700489]\t[0. 0.]                  \t[ 36.         679.52866272]\n",
            "44 \t87    \t[ 12.18       317.39777989]\t[ 11.79947456 229.89554242]\t[0. 0.]                  \t[ 36.         679.52866272]\n",
            "45 \t89    \t[ 17.68       436.78940267]\t[ 11.62831028 173.78615821]\t[0. 0.]                  \t[ 36.         679.52866272]\n",
            "46 \t90    \t[ 16.48       419.86099586]\t[ 11.47735161 171.55228454]\t[0. 0.]                  \t[ 36.         679.52866272]\n",
            "47 \t86    \t[ 15.76       412.80984376]\t[ 11.82465221 174.88630312]\t[0. 0.]                  \t[ 39.         690.06992787]\n",
            "48 \t90    \t[ 17.38       440.11229633]\t[ 10.85705301 156.76364424]\t[0. 0.]                  \t[ 39.         690.06992787]\n",
            "49 \t90    \t[ 17.78       446.86524652]\t[ 10.57031693 152.71107578]\t[0. 0.]                  \t[ 39.         690.06992787]\n",
            "50 \t87    \t[ 14.62       387.92525482]\t[ 11.77266325 192.42123938]\t[0. 0.]                  \t[ 39.         690.06992787]\n"
          ]
        }
      ]
    },
    {
      "cell_type": "code",
      "source": [],
      "metadata": {
        "id": "Q4WsIKkK0T7n"
      },
      "execution_count": null,
      "outputs": []
    }
  ]
}